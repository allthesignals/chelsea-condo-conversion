{
 "cells": [
  {
   "cell_type": "code",
   "execution_count": 175,
   "metadata": {
    "collapsed": false
   },
   "outputs": [],
   "source": [
    "import pandas as pd\n",
    "import numpy as np\n",
    "import geopandas as gpd\n",
    "%matplotlib inline\n",
    "import matplotlib\n",
    "from matplotlib import pyplot as plt\n",
    "\n",
    "assessors2012 = pd.read_csv(\"assessors2012.csv\").dropna()\n",
    "assessors2016 = pd.read_csv(\"assessors2016.csv\").dropna()\n",
    "joined = pd.merge(assessors2012, assessors2016, left_on=\"parloc_id\", right_on=\"LOC_ID\")"
   ]
  },
  {
   "cell_type": "markdown",
   "metadata": {},
   "source": [
    "###First we import our data. Next, let's try to perform a join:"
   ]
  },
  {
   "cell_type": "code",
   "execution_count": 185,
   "metadata": {
    "collapsed": false
   },
   "outputs": [],
   "source": [
    "nonConRes = list([\"101\",\"103\",\"104\",\"105\",\"106\",\"107\",\"108\",\"109\",\"111\",\"112\"])\n",
    "pattern = '|'.join(nonConRes)\n",
    "cconversions = joined[joined[\"luc_1\"].str.contains(pattern) & joined[\"USE_CODE\"].str.contains(\"102\")]"
   ]
  },
  {
   "cell_type": "markdown",
   "metadata": {},
   "source": [
    "|Land Use Code | Land Use |\n",
    "|-------------:|---------:|\n",
    "|101 | Single Family |\n",
    "|102 | Condominium |\n",
    "|103 | Mobile Home |\n",
    "|104 | Two-Family |\n",
    "|105 | Three-Family |\n",
    "|106 | Accessory |\n",
    "|109 | Multiple Households |\n",
    "|111 | Four to Eight |\n",
    "|112 | More than Eight |\n",
    "\n",
    "As many as **22** units in Chelsea were converted to condos during the 4-year period between 2012 and 2016. Let's map it:\n"
   ]
  },
  {
   "cell_type": "code",
   "execution_count": 180,
   "metadata": {
    "collapsed": false
   },
   "outputs": [],
   "source": [
    "chelsea = gpd.GeoDataFrame.from_file(\"chelsea-assessors-2016.shp\")"
   ]
  },
  {
   "cell_type": "code",
   "execution_count": 187,
   "metadata": {
    "collapsed": false
   },
   "outputs": [],
   "source": [
    "chelsea[chelsea[\"LOC_ID\"].isin(cconversions[\"LOC_ID\"])].to_file(\"chelsea-conversions-1216.shp\")"
   ]
  }
 ],
 "metadata": {
  "kernelspec": {
   "display_name": "Python 3",
   "language": "python",
   "name": "python3"
  },
  "language_info": {
   "codemirror_mode": {
    "name": "ipython",
    "version": 3
   },
   "file_extension": ".py",
   "mimetype": "text/x-python",
   "name": "python",
   "nbconvert_exporter": "python",
   "pygments_lexer": "ipython3",
   "version": "3.4.3"
  }
 },
 "nbformat": 4,
 "nbformat_minor": 0
}
