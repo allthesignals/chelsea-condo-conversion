{
 "cells": [
  {
   "cell_type": "code",
   "execution_count": 162,
   "metadata": {
    "collapsed": false
   },
   "outputs": [
    {
     "data": {
      "text/plain": [
       "Index(['MAP_PAR_ID', 'LOC_ID', 'POLY_TYPE', 'MAP_NO', 'SOURCE', 'PLAN_ID',\n",
       "       'LAST_EDIT', 'BND_CHK', 'NO_MATCH', 'TOWN_ID', 'SHAPE_Leng', 'OID',\n",
       "       'PROP_ID', 'LOC_ID_1', 'BLDG_VAL', 'LAND_VAL', 'OTHER_VAL', 'TOTAL_VAL',\n",
       "       'FY', 'LOT_SIZE', 'LS_DATE', 'LS_PRICE', 'USE_CODE', 'SITE_ADDR',\n",
       "       'ADDR_NUM', 'FULL_STR', 'LOCATION', 'CITY', 'ZIP', 'OWNER1', 'OWN_ADDR',\n",
       "       'OWN_CITY', 'OWN_STATE', 'OWN_ZIP', 'OWN_CO', 'LS_BOOK', 'LS_PAGE',\n",
       "       'REG_ID', 'ZONING', 'YEAR_BUILT', 'BLD_AREA', 'UNITS', 'RES_AREA',\n",
       "       'STYLE', 'STORIES', 'NUM_ROOMS', 'LOT_UNITS', 'CAMA_ID', 'TOWN_ID_1',\n",
       "       'Shape_Length', 'Shape_Area'],\n",
       "      dtype='object')"
      ]
     },
     "execution_count": 162,
     "metadata": {},
     "output_type": "execute_result"
    }
   ],
   "source": [
    "import pandas as pd\n",
    "import numpy as np\n",
    "\n",
    "assessors2012 = pd.read_csv(\"assessors2012.csv\").dropna()\n",
    "assessors2016 = pd.read_csv(\"assessors2016.csv\").dropna()\n",
    "joined = pd.merge(assessors2012, assessors2016, left_on=\"parloc_id\", right_on=\"LOC_ID\")\n",
    "assessors2016"
   ]
  },
  {
   "cell_type": "markdown",
   "metadata": {},
   "source": [
    "###First we import our data. Next, let's try to perform a join:"
   ]
  },
  {
   "cell_type": "code",
   "execution_count": 166,
   "metadata": {
    "collapsed": false
   },
   "outputs": [
    {
     "data": {
      "text/plain": [
       "236     112C\n",
       "538     1010\n",
       "2127    1040\n",
       "2850    1050\n",
       "3101    1040\n",
       "3652    1050\n",
       "3730    1050\n",
       "Name: luc_1, dtype: object"
      ]
     },
     "execution_count": 166,
     "metadata": {},
     "output_type": "execute_result"
    }
   ],
   "source": [
    "nonConRes = list([\"101\",\"103\",\"104\",\"105\",\"106\",\"107\",\"108\",\"109\",\"111\",\"112\"])\n",
    "pattern = '|'.join(nonConRes)\n",
    "joined[joined[\"luc_1\"].str.contains(pattern) & joined[\"USE_CODE\"].str.contains(\"102\")][\"luc_1\"]"
   ]
  },
  {
   "cell_type": "markdown",
   "metadata": {},
   "source": [
    "|Land Use Code | Land Use |\n",
    "|-------------:|---------:|\n",
    "|101 | Single Family |\n",
    "|102 | Condominium |\n",
    "|103 | Mobile Home |\n",
    "|104 | Two-Family |\n",
    "|105 | Three-Family |\n",
    "|106 | Accessory |\n",
    "|109 | Multiple Households |\n",
    "|111 | Four to Eight |\n",
    "|112 | More than Eight |\n",
    "\n",
    "As many as **22** units in Chelsea were converted to condos during the 4-year period between 2012 and 2016.\n"
   ]
  }
 ],
 "metadata": {
  "kernelspec": {
   "display_name": "Python 3",
   "language": "python",
   "name": "python3"
  },
  "language_info": {
   "codemirror_mode": {
    "name": "ipython",
    "version": 3
   },
   "file_extension": ".py",
   "mimetype": "text/x-python",
   "name": "python",
   "nbconvert_exporter": "python",
   "pygments_lexer": "ipython3",
   "version": "3.4.3"
  }
 },
 "nbformat": 4,
 "nbformat_minor": 0
}
